{
 "cells": [
  {
   "cell_type": "markdown",
   "metadata": {},
   "source": [
    "# Zillow Clustering Project Prepare Notebook"
   ]
  },
  {
   "cell_type": "code",
   "execution_count": 1,
   "metadata": {},
   "outputs": [],
   "source": [
    "import pandas as pd\n",
    "import numpy as np\n",
    "import matplotlib.pyplot as plt\n",
    "import scipy.stats as stats\n",
    "import seaborn as sns\n",
    "import os\n",
    "from env import host, user, password\n",
    "from sklearn.model_selection import train_test_split\n",
    "from sklearn.preprocessing import MinMaxScaler\n",
    "from sklearn.impute import SimpleImputer\n",
    "import acquire\n",
    "import prepare\n",
    "import warnings\n",
    "warnings.filterwarnings('ignore')"
   ]
  },
  {
   "cell_type": "code",
   "execution_count": 2,
   "metadata": {},
   "outputs": [],
   "source": [
    "# connect to database, perform SQL query, write to csv, and convert to pandas DataFrame\n",
    "df = acquire.get_zillow_cluster()"
   ]
  },
  {
   "cell_type": "code",
   "execution_count": 3,
   "metadata": {},
   "outputs": [
    {
     "name": "stdout",
     "output_type": "stream",
     "text": [
      "<class 'pandas.core.frame.DataFrame'>\n",
      "Int64Index: 52438 entries, 0 to 52437\n",
      "Data columns (total 68 columns):\n",
      " #   Column                        Non-Null Count  Dtype  \n",
      "---  ------                        --------------  -----  \n",
      " 0   typeconstructiontypeid        76 non-null     float64\n",
      " 1   storytypeid                   47 non-null     float64\n",
      " 2   propertylandusetypeid         52438 non-null  float64\n",
      " 3   heatingorsystemtypeid         33934 non-null  float64\n",
      " 4   buildingclasstypeid           0 non-null      float64\n",
      " 5   architecturalstyletypeid      70 non-null     float64\n",
      " 6   airconditioningtypeid         13638 non-null  float64\n",
      " 7   parcelid                      52438 non-null  int64  \n",
      " 8   id                            52438 non-null  int64  \n",
      " 9   basementsqft                  47 non-null     float64\n",
      " 10  bathroomcnt                   52438 non-null  float64\n",
      " 11  bedroomcnt                    52438 non-null  float64\n",
      " 12  buildingqualitytypeid         33739 non-null  float64\n",
      " 13  calculatedbathnbr             52301 non-null  float64\n",
      " 14  decktypeid                    389 non-null    float64\n",
      " 15  finishedfloor1squarefeet      4379 non-null   float64\n",
      " 16  calculatedfinishedsquarefeet  52356 non-null  float64\n",
      " 17  finishedsquarefeet12          52191 non-null  float64\n",
      " 18  finishedsquarefeet13          0 non-null      float64\n",
      " 19  finishedsquarefeet15          0 non-null      float64\n",
      " 20  finishedsquarefeet50          4379 non-null   float64\n",
      " 21  finishedsquarefeet6           165 non-null    float64\n",
      " 22  fips                          52438 non-null  float64\n",
      " 23  fireplacecnt                  7241 non-null   float64\n",
      " 24  fullbathcnt                   52301 non-null  float64\n",
      " 25  garagecarcnt                  18013 non-null  float64\n",
      " 26  garagetotalsqft               18013 non-null  float64\n",
      " 27  hashottuborspa                1515 non-null   float64\n",
      " 28  latitude                      52438 non-null  float64\n",
      " 29  longitude                     52438 non-null  float64\n",
      " 30  lotsizesquarefeet             52069 non-null  float64\n",
      " 31  poolcnt                       11096 non-null  float64\n",
      " 32  poolsizesum                   867 non-null    float64\n",
      " 33  pooltypeid10                  444 non-null    float64\n",
      " 34  pooltypeid2                   1071 non-null   float64\n",
      " 35  pooltypeid7                   10009 non-null  float64\n",
      " 36  propertycountylandusecode     52438 non-null  object \n",
      " 37  propertyzoningdesc            33847 non-null  object \n",
      " 38  rawcensustractandblock        52438 non-null  float64\n",
      " 39  regionidcity                  51401 non-null  float64\n",
      " 40  regionidcounty                52438 non-null  float64\n",
      " 41  regionidneighborhood          19033 non-null  float64\n",
      " 42  regionidzip                   52412 non-null  float64\n",
      " 43  roomcnt                       52438 non-null  float64\n",
      " 44  threequarterbathnbr           6724 non-null   float64\n",
      " 45  unitcnt                       33846 non-null  float64\n",
      " 46  yardbuildingsqft17            1937 non-null   float64\n",
      " 47  yardbuildingsqft26            63 non-null     float64\n",
      " 48  yearbuilt                     52322 non-null  float64\n",
      " 49  numberofstories               14559 non-null  float64\n",
      " 50  fireplaceflag                 81 non-null     float64\n",
      " 51  structuretaxvaluedollarcnt    52354 non-null  float64\n",
      " 52  taxvaluedollarcnt             52437 non-null  float64\n",
      " 53  assessmentyear                52438 non-null  float64\n",
      " 54  landtaxvaluedollarcnt         52437 non-null  float64\n",
      " 55  taxamount                     52434 non-null  float64\n",
      " 56  taxdelinquencyflag            2079 non-null   object \n",
      " 57  taxdelinquencyyear            2079 non-null   float64\n",
      " 58  censustractandblock           52315 non-null  float64\n",
      " 59  logerror                      52438 non-null  float64\n",
      " 60  transactiondate               52438 non-null  object \n",
      " 61  airconditioningdesc           13638 non-null  object \n",
      " 62  architecturalstyledesc        70 non-null     object \n",
      " 63  buildingclassdesc             0 non-null      float64\n",
      " 64  heatingorsystemdesc           33934 non-null  object \n",
      " 65  propertylandusedesc           52438 non-null  object \n",
      " 66  storydesc                     47 non-null     object \n",
      " 67  typeconstructiondesc          76 non-null     object \n",
      "dtypes: float64(56), int64(2), object(10)\n",
      "memory usage: 27.6+ MB\n"
     ]
    }
   ],
   "source": [
    "# what are we starting with?\n",
    "df.info()"
   ]
  },
  {
   "cell_type": "markdown",
   "metadata": {},
   "source": [
    "#### Data Preparation To Do List:\n",
    "- Set parcelid as index\n",
    "- Drop Columns that have more than 50% null values\n",
    "- Drop Rows that have more than 75% null values\n",
    "- Encode or Drop Object Columns\n",
    "- Create New Variable Columns for:\n",
    "    - age of property\n",
    "    - convert lot size to acres\n",
    "    - bath:bed ratio\n",
    "    - taxrate\n",
    "- Other Columns to Drop:"
   ]
  },
  {
   "cell_type": "code",
   "execution_count": 4,
   "metadata": {},
   "outputs": [
    {
     "data": {
      "text/html": [
       "<div>\n",
       "<style scoped>\n",
       "    .dataframe tbody tr th:only-of-type {\n",
       "        vertical-align: middle;\n",
       "    }\n",
       "\n",
       "    .dataframe tbody tr th {\n",
       "        vertical-align: top;\n",
       "    }\n",
       "\n",
       "    .dataframe thead th {\n",
       "        text-align: right;\n",
       "    }\n",
       "</style>\n",
       "<table border=\"1\" class=\"dataframe\">\n",
       "  <thead>\n",
       "    <tr style=\"text-align: right;\">\n",
       "      <th></th>\n",
       "      <th>typeconstructiontypeid</th>\n",
       "      <th>storytypeid</th>\n",
       "      <th>propertylandusetypeid</th>\n",
       "      <th>heatingorsystemtypeid</th>\n",
       "      <th>buildingclasstypeid</th>\n",
       "      <th>architecturalstyletypeid</th>\n",
       "      <th>airconditioningtypeid</th>\n",
       "      <th>id</th>\n",
       "      <th>basementsqft</th>\n",
       "      <th>bathroomcnt</th>\n",
       "      <th>...</th>\n",
       "      <th>censustractandblock</th>\n",
       "      <th>logerror</th>\n",
       "      <th>transactiondate</th>\n",
       "      <th>airconditioningdesc</th>\n",
       "      <th>architecturalstyledesc</th>\n",
       "      <th>buildingclassdesc</th>\n",
       "      <th>heatingorsystemdesc</th>\n",
       "      <th>propertylandusedesc</th>\n",
       "      <th>storydesc</th>\n",
       "      <th>typeconstructiondesc</th>\n",
       "    </tr>\n",
       "    <tr>\n",
       "      <th>parcel_id</th>\n",
       "      <th></th>\n",
       "      <th></th>\n",
       "      <th></th>\n",
       "      <th></th>\n",
       "      <th></th>\n",
       "      <th></th>\n",
       "      <th></th>\n",
       "      <th></th>\n",
       "      <th></th>\n",
       "      <th></th>\n",
       "      <th></th>\n",
       "      <th></th>\n",
       "      <th></th>\n",
       "      <th></th>\n",
       "      <th></th>\n",
       "      <th></th>\n",
       "      <th></th>\n",
       "      <th></th>\n",
       "      <th></th>\n",
       "      <th></th>\n",
       "      <th></th>\n",
       "    </tr>\n",
       "  </thead>\n",
       "  <tbody>\n",
       "    <tr>\n",
       "      <th>14297519</th>\n",
       "      <td>NaN</td>\n",
       "      <td>NaN</td>\n",
       "      <td>261.0</td>\n",
       "      <td>NaN</td>\n",
       "      <td>NaN</td>\n",
       "      <td>NaN</td>\n",
       "      <td>NaN</td>\n",
       "      <td>1727539</td>\n",
       "      <td>NaN</td>\n",
       "      <td>3.5</td>\n",
       "      <td>...</td>\n",
       "      <td>6.059063e+13</td>\n",
       "      <td>0.025595</td>\n",
       "      <td>2017-01-01</td>\n",
       "      <td>NaN</td>\n",
       "      <td>NaN</td>\n",
       "      <td>NaN</td>\n",
       "      <td>NaN</td>\n",
       "      <td>Single Family Residential</td>\n",
       "      <td>NaN</td>\n",
       "      <td>NaN</td>\n",
       "    </tr>\n",
       "    <tr>\n",
       "      <th>17052889</th>\n",
       "      <td>NaN</td>\n",
       "      <td>NaN</td>\n",
       "      <td>261.0</td>\n",
       "      <td>NaN</td>\n",
       "      <td>NaN</td>\n",
       "      <td>NaN</td>\n",
       "      <td>NaN</td>\n",
       "      <td>1387261</td>\n",
       "      <td>NaN</td>\n",
       "      <td>1.0</td>\n",
       "      <td>...</td>\n",
       "      <td>6.111001e+13</td>\n",
       "      <td>0.055619</td>\n",
       "      <td>2017-01-01</td>\n",
       "      <td>NaN</td>\n",
       "      <td>NaN</td>\n",
       "      <td>NaN</td>\n",
       "      <td>NaN</td>\n",
       "      <td>Single Family Residential</td>\n",
       "      <td>NaN</td>\n",
       "      <td>NaN</td>\n",
       "    </tr>\n",
       "    <tr>\n",
       "      <th>14186244</th>\n",
       "      <td>NaN</td>\n",
       "      <td>NaN</td>\n",
       "      <td>261.0</td>\n",
       "      <td>NaN</td>\n",
       "      <td>NaN</td>\n",
       "      <td>NaN</td>\n",
       "      <td>NaN</td>\n",
       "      <td>11677</td>\n",
       "      <td>NaN</td>\n",
       "      <td>2.0</td>\n",
       "      <td>...</td>\n",
       "      <td>6.059022e+13</td>\n",
       "      <td>0.005383</td>\n",
       "      <td>2017-01-01</td>\n",
       "      <td>NaN</td>\n",
       "      <td>NaN</td>\n",
       "      <td>NaN</td>\n",
       "      <td>NaN</td>\n",
       "      <td>Single Family Residential</td>\n",
       "      <td>NaN</td>\n",
       "      <td>NaN</td>\n",
       "    </tr>\n",
       "    <tr>\n",
       "      <th>12177905</th>\n",
       "      <td>NaN</td>\n",
       "      <td>NaN</td>\n",
       "      <td>261.0</td>\n",
       "      <td>2.0</td>\n",
       "      <td>NaN</td>\n",
       "      <td>NaN</td>\n",
       "      <td>NaN</td>\n",
       "      <td>2288172</td>\n",
       "      <td>NaN</td>\n",
       "      <td>3.0</td>\n",
       "      <td>...</td>\n",
       "      <td>6.037300e+13</td>\n",
       "      <td>-0.103410</td>\n",
       "      <td>2017-01-01</td>\n",
       "      <td>NaN</td>\n",
       "      <td>NaN</td>\n",
       "      <td>NaN</td>\n",
       "      <td>Central</td>\n",
       "      <td>Single Family Residential</td>\n",
       "      <td>NaN</td>\n",
       "      <td>NaN</td>\n",
       "    </tr>\n",
       "    <tr>\n",
       "      <th>12095076</th>\n",
       "      <td>NaN</td>\n",
       "      <td>NaN</td>\n",
       "      <td>261.0</td>\n",
       "      <td>2.0</td>\n",
       "      <td>NaN</td>\n",
       "      <td>NaN</td>\n",
       "      <td>1.0</td>\n",
       "      <td>781532</td>\n",
       "      <td>NaN</td>\n",
       "      <td>3.0</td>\n",
       "      <td>...</td>\n",
       "      <td>6.037461e+13</td>\n",
       "      <td>-0.001011</td>\n",
       "      <td>2017-01-01</td>\n",
       "      <td>Central</td>\n",
       "      <td>NaN</td>\n",
       "      <td>NaN</td>\n",
       "      <td>Central</td>\n",
       "      <td>Single Family Residential</td>\n",
       "      <td>NaN</td>\n",
       "      <td>NaN</td>\n",
       "    </tr>\n",
       "  </tbody>\n",
       "</table>\n",
       "<p>5 rows × 67 columns</p>\n",
       "</div>"
      ],
      "text/plain": [
       "           typeconstructiontypeid  storytypeid  propertylandusetypeid  \\\n",
       "parcel_id                                                               \n",
       "14297519                      NaN          NaN                  261.0   \n",
       "17052889                      NaN          NaN                  261.0   \n",
       "14186244                      NaN          NaN                  261.0   \n",
       "12177905                      NaN          NaN                  261.0   \n",
       "12095076                      NaN          NaN                  261.0   \n",
       "\n",
       "           heatingorsystemtypeid  buildingclasstypeid  \\\n",
       "parcel_id                                               \n",
       "14297519                     NaN                  NaN   \n",
       "17052889                     NaN                  NaN   \n",
       "14186244                     NaN                  NaN   \n",
       "12177905                     2.0                  NaN   \n",
       "12095076                     2.0                  NaN   \n",
       "\n",
       "           architecturalstyletypeid  airconditioningtypeid       id  \\\n",
       "parcel_id                                                             \n",
       "14297519                        NaN                    NaN  1727539   \n",
       "17052889                        NaN                    NaN  1387261   \n",
       "14186244                        NaN                    NaN    11677   \n",
       "12177905                        NaN                    NaN  2288172   \n",
       "12095076                        NaN                    1.0   781532   \n",
       "\n",
       "           basementsqft  bathroomcnt  ...  censustractandblock  logerror  \\\n",
       "parcel_id                             ...                                  \n",
       "14297519            NaN          3.5  ...         6.059063e+13  0.025595   \n",
       "17052889            NaN          1.0  ...         6.111001e+13  0.055619   \n",
       "14186244            NaN          2.0  ...         6.059022e+13  0.005383   \n",
       "12177905            NaN          3.0  ...         6.037300e+13 -0.103410   \n",
       "12095076            NaN          3.0  ...         6.037461e+13 -0.001011   \n",
       "\n",
       "           transactiondate  airconditioningdesc  architecturalstyledesc  \\\n",
       "parcel_id                                                                 \n",
       "14297519        2017-01-01                  NaN                     NaN   \n",
       "17052889        2017-01-01                  NaN                     NaN   \n",
       "14186244        2017-01-01                  NaN                     NaN   \n",
       "12177905        2017-01-01                  NaN                     NaN   \n",
       "12095076        2017-01-01              Central                     NaN   \n",
       "\n",
       "           buildingclassdesc  heatingorsystemdesc        propertylandusedesc  \\\n",
       "parcel_id                                                                      \n",
       "14297519                 NaN                  NaN  Single Family Residential   \n",
       "17052889                 NaN                  NaN  Single Family Residential   \n",
       "14186244                 NaN                  NaN  Single Family Residential   \n",
       "12177905                 NaN              Central  Single Family Residential   \n",
       "12095076                 NaN              Central  Single Family Residential   \n",
       "\n",
       "           storydesc  typeconstructiondesc  \n",
       "parcel_id                                   \n",
       "14297519         NaN                   NaN  \n",
       "17052889         NaN                   NaN  \n",
       "14186244         NaN                   NaN  \n",
       "12177905         NaN                   NaN  \n",
       "12095076         NaN                   NaN  \n",
       "\n",
       "[5 rows x 67 columns]"
      ]
     },
     "execution_count": 4,
     "metadata": {},
     "output_type": "execute_result"
    }
   ],
   "source": [
    "# rename parcelid as parcel_id and set as index\n",
    "\n",
    "df = prepare.new_index(df)\n",
    "df.head()"
   ]
  },
  {
   "cell_type": "code",
   "execution_count": 5,
   "metadata": {},
   "outputs": [],
   "source": [
    "# uses my nulls_by_col function and drops all columns with 50% or more null values\n",
    "# uses my nulls_by_row function and drops all rows with 75% or more null values\n",
    "df = prepare.handle_missing_values(df)"
   ]
  },
  {
   "cell_type": "code",
   "execution_count": 6,
   "metadata": {},
   "outputs": [],
   "source": [
    "# creates dummy columns for each county\n",
    "df = prepare.get_counties(df)"
   ]
  },
  {
   "cell_type": "code",
   "execution_count": 7,
   "metadata": {},
   "outputs": [],
   "source": [
    "# creates my desired new feature columns\n",
    "df = prepare.create_features(df)"
   ]
  },
  {
   "cell_type": "code",
   "execution_count": 8,
   "metadata": {},
   "outputs": [
    {
     "name": "stdout",
     "output_type": "stream",
     "text": [
      "<class 'pandas.core.frame.DataFrame'>\n",
      "Int64Index: 52359 entries, 14297519 to 12826780\n",
      "Data columns (total 39 columns):\n",
      " #   Column                        Non-Null Count  Dtype  \n",
      "---  ------                        --------------  -----  \n",
      " 0   propertylandusetypeid         52359 non-null  float64\n",
      " 1   heatingorsystemtypeid         33934 non-null  float64\n",
      " 2   id                            52359 non-null  int64  \n",
      " 3   bathroomcnt                   52359 non-null  float64\n",
      " 4   bedroomcnt                    52359 non-null  float64\n",
      " 5   buildingqualitytypeid         33738 non-null  float64\n",
      " 6   calculatedbathnbr             52297 non-null  float64\n",
      " 7   calculatedfinishedsquarefeet  52351 non-null  float64\n",
      " 8   finishedsquarefeet12          52187 non-null  float64\n",
      " 9   fips                          52359 non-null  float64\n",
      " 10  fullbathcnt                   52297 non-null  float64\n",
      " 11  latitude                      52359 non-null  float64\n",
      " 12  longitude                     52359 non-null  float64\n",
      " 13  lotsizesquarefeet             51999 non-null  float64\n",
      " 14  propertycountylandusecode     52359 non-null  object \n",
      " 15  propertyzoningdesc            33830 non-null  object \n",
      " 16  rawcensustractandblock        52359 non-null  float64\n",
      " 17  regionidcity                  51333 non-null  float64\n",
      " 18  regionidzip                   52340 non-null  float64\n",
      " 19  roomcnt                       52359 non-null  float64\n",
      " 20  unitcnt                       33846 non-null  float64\n",
      " 21  yearbuilt                     52317 non-null  float64\n",
      " 22  structuretaxvaluedollarcnt    52285 non-null  float64\n",
      " 23  taxvaluedollarcnt             52358 non-null  float64\n",
      " 24  assessmentyear                52359 non-null  float64\n",
      " 25  landtaxvaluedollarcnt         52358 non-null  float64\n",
      " 26  taxamount                     52355 non-null  float64\n",
      " 27  censustractandblock           52249 non-null  float64\n",
      " 28  logerror                      52359 non-null  float64\n",
      " 29  transactiondate               52359 non-null  object \n",
      " 30  heatingorsystemdesc           33934 non-null  object \n",
      " 31  propertylandusedesc           52359 non-null  object \n",
      " 32  LA                            52359 non-null  uint8  \n",
      " 33  Orange                        52359 non-null  uint8  \n",
      " 34  Ventura                       52359 non-null  uint8  \n",
      " 35  age                           52317 non-null  float64\n",
      " 36  taxrate                       52354 non-null  float64\n",
      " 37  acres                         51999 non-null  float64\n",
      " 38  bath_bed_ratio                52328 non-null  float64\n",
      "dtypes: float64(30), int64(1), object(5), uint8(3)\n",
      "memory usage: 14.9+ MB\n"
     ]
    }
   ],
   "source": [
    "df.info()"
   ]
  },
  {
   "cell_type": "code",
   "execution_count": 9,
   "metadata": {},
   "outputs": [
    {
     "data": {
      "text/plain": [
       "2.0     20736\n",
       "7.0     12564\n",
       "6.0       517\n",
       "20.0       85\n",
       "13.0       16\n",
       "1.0         7\n",
       "18.0        6\n",
       "10.0        2\n",
       "24.0        1\n",
       "Name: heatingorsystemtypeid, dtype: int64"
      ]
     },
     "execution_count": 9,
     "metadata": {},
     "output_type": "execute_result"
    }
   ],
   "source": [
    "df['heatingorsystemtypeid'].value_counts()"
   ]
  },
  {
   "cell_type": "code",
   "execution_count": 10,
   "metadata": {},
   "outputs": [],
   "source": [
    "df = prepare.drop_columns(df)"
   ]
  },
  {
   "cell_type": "code",
   "execution_count": 11,
   "metadata": {},
   "outputs": [
    {
     "name": "stdout",
     "output_type": "stream",
     "text": [
      "<class 'pandas.core.frame.DataFrame'>\n",
      "Int64Index: 52359 entries, 14297519 to 12826780\n",
      "Data columns (total 27 columns):\n",
      " #   Column                        Non-Null Count  Dtype  \n",
      "---  ------                        --------------  -----  \n",
      " 0   bathroomcnt                   52359 non-null  float64\n",
      " 1   bedroomcnt                    52359 non-null  float64\n",
      " 2   calculatedbathnbr             52297 non-null  float64\n",
      " 3   calculatedfinishedsquarefeet  52351 non-null  float64\n",
      " 4   fips                          52359 non-null  float64\n",
      " 5   fullbathcnt                   52297 non-null  float64\n",
      " 6   latitude                      52359 non-null  float64\n",
      " 7   longitude                     52359 non-null  float64\n",
      " 8   lotsizesquarefeet             51999 non-null  float64\n",
      " 9   rawcensustractandblock        52359 non-null  float64\n",
      " 10  regionidcity                  51333 non-null  float64\n",
      " 11  regionidzip                   52340 non-null  float64\n",
      " 12  roomcnt                       52359 non-null  float64\n",
      " 13  yearbuilt                     52317 non-null  float64\n",
      " 14  structuretaxvaluedollarcnt    52285 non-null  float64\n",
      " 15  taxvaluedollarcnt             52358 non-null  float64\n",
      " 16  assessmentyear                52359 non-null  float64\n",
      " 17  landtaxvaluedollarcnt         52358 non-null  float64\n",
      " 18  taxamount                     52355 non-null  float64\n",
      " 19  logerror                      52359 non-null  float64\n",
      " 20  LA                            52359 non-null  uint8  \n",
      " 21  Orange                        52359 non-null  uint8  \n",
      " 22  Ventura                       52359 non-null  uint8  \n",
      " 23  age                           52317 non-null  float64\n",
      " 24  taxrate                       52354 non-null  float64\n",
      " 25  acres                         51999 non-null  float64\n",
      " 26  bath_bed_ratio                52328 non-null  float64\n",
      "dtypes: float64(24), uint8(3)\n",
      "memory usage: 10.1 MB\n"
     ]
    }
   ],
   "source": [
    "df.info()"
   ]
  },
  {
   "cell_type": "code",
   "execution_count": 17,
   "metadata": {},
   "outputs": [],
   "source": [
    "# put in explore module\n",
    "def plot_variable_dist(df, figsize = (3,2)):\n",
    "    '''\n",
    "    This function is for exploring. Takes in a dataframe with variables you would like to see the distribution of.\n",
    "    Input the dataframe (either fully, or using .drop) with ONLY the columns you want to see plotted. \n",
    "    Optional argument figsize. Default it's small. \n",
    "    BTW if you just put list(df) it pulls out only the column names\n",
    "    '''\n",
    "    # loop through columns and use seaborn to plot distributions\n",
    "    for col in list(df):\n",
    "            plt.figure(figsize=figsize)\n",
    "            plt.hist(data = df, x = col)\n",
    "            plt.title(f'Distribution of {col}')\n",
    "            plt.show()\n",
    "            print(f'Number of Nulls: {df[col].isnull().sum()}')\n",
    "            print('--------------------------------------')"
   ]
  },
  {
   "cell_type": "code",
   "execution_count": 18,
   "metadata": {},
   "outputs": [
    {
     "data": {
      "image/png": "[encoded data removed]",
      "text/plain": [
       "<Figure size 216x144 with 1 Axes>"
      ]
     },
     "metadata": {
      "needs_background": "light"
     },
     "output_type": "display_data"
    },
    {
     "name": "stdout",
     "output_type": "stream",
     "text": [
      "Number of Nulls: 0\n",
      "--------------------------------------\n"
     ]
    },
    {
     "data": {
      "image/png": "[encoded data removed]",
      "text/plain": [
       "<Figure size 216x144 with 1 Axes>"
      ]
     },
     "metadata": {
      "needs_background": "light"
     },
     "output_type": "display_data"
    },
    {
     "name": "stdout",
     "output_type": "stream",
     "text": [
      "Number of Nulls: 0\n",
      "--------------------------------------\n"
     ]
    },
    {
     "data": {
      "image/png": "[encoded data removed]",
      "text/plain": [
       "<Figure size 216x144 with 1 Axes>"
      ]
     },
     "metadata": {
      "needs_background": "light"
     },
     "output_type": "display_data"
    },
    {
     "name": "stdout",
     "output_type": "stream",
     "text": [
      "Number of Nulls: 0\n",
      "--------------------------------------\n"
     ]
    },
    {
     "data": {
      "image/png": "[encoded data removed]",
      "text/plain": [
       "<Figure size 216x144 with 1 Axes>"
      ]
     },
     "metadata": {
      "needs_background": "light"
     },
     "output_type": "display_data"
    },
    {
     "name": "stdout",
     "output_type": "stream",
     "text": [
      "Number of Nulls: 0\n",
      "--------------------------------------\n"
     ]
    },
    {
     "data": {
      "image/png": "[encoded data removed]",
      "text/plain": [
       "<Figure size 216x144 with 1 Axes>"
      ]
     },
     "metadata": {
      "needs_background": "light"
     },
     "output_type": "display_data"
    },
    {
     "name": "stdout",
     "output_type": "stream",
     "text": [
      "Number of Nulls: 0\n",
      "--------------------------------------\n"
     ]
    },
    {
     "data": {
      "image/png": "[encoded data removed]",
      "text/plain": [
       "<Figure size 216x144 with 1 Axes>"
      ]
     },
     "metadata": {
      "needs_background": "light"
     },
     "output_type": "display_data"
    },
    {
     "name": "stdout",
     "output_type": "stream",
     "text": [
      "Number of Nulls: 0\n",
      "--------------------------------------\n"
     ]
    },
    {
     "data": {
      "image/png": "[encoded data removed]",
      "text/plain": [
       "<Figure size 216x144 with 1 Axes>"
      ]
     },
     "metadata": {
      "needs_background": "light"
     },
     "output_type": "display_data"
    },
    {
     "name": "stdout",
     "output_type": "stream",
     "text": [
      "Number of Nulls: 0\n",
      "--------------------------------------\n"
     ]
    },
    {
     "data": {
      "image/png": "[encoded data removed]",
      "text/plain": [
       "<Figure size 216x144 with 1 Axes>"
      ]
     },
     "metadata": {
      "needs_background": "light"
     },
     "output_type": "display_data"
    },
    {
     "name": "stdout",
     "output_type": "stream",
     "text": [
      "Number of Nulls: 0\n",
      "--------------------------------------\n"
     ]
    },
    {
     "data": {
      "image/png": "[encoded data removed]",
      "text/plain": [
       "<Figure size 216x144 with 1 Axes>"
      ]
     },
     "metadata": {
      "needs_background": "light"
     },
     "output_type": "display_data"
    },
    {
     "name": "stdout",
     "output_type": "stream",
     "text": [
      "Number of Nulls: 0\n",
      "--------------------------------------\n"
     ]
    },
    {
     "data": {
      "image/png": "[encoded data removed]",
      "text/plain": [
       "<Figure size 216x144 with 1 Axes>"
      ]
     },
     "metadata": {
      "needs_background": "light"
     },
     "output_type": "display_data"
    },
    {
     "name": "stdout",
     "output_type": "stream",
     "text": [
      "Number of Nulls: 0\n",
      "--------------------------------------\n"
     ]
    },
    {
     "data": {
      "image/png": "[encoded data removed]",
      "text/plain": [
       "<Figure size 216x144 with 1 Axes>"
      ]
     },
     "metadata": {
      "needs_background": "light"
     },
     "output_type": "display_data"
    },
    {
     "name": "stdout",
     "output_type": "stream",
     "text": [
      "Number of Nulls: 767\n",
      "--------------------------------------\n"
     ]
    },
    {
     "data": {
      "image/png": "[encoded data removed]",
      "text/plain": [
       "<Figure size 216x144 with 1 Axes>"
      ]
     },
     "metadata": {
      "needs_background": "light"
     },
     "output_type": "display_data"
    },
    {
     "name": "stdout",
     "output_type": "stream",
     "text": [
      "Number of Nulls: 5\n",
      "--------------------------------------\n"
     ]
    },
    {
     "data": {
      "image/png": "[encoded data removed]",
      "text/plain": [
       "<Figure size 216x144 with 1 Axes>"
      ]
     },
     "metadata": {
      "needs_background": "light"
     },
     "output_type": "display_data"
    },
    {
     "name": "stdout",
     "output_type": "stream",
     "text": [
      "Number of Nulls: 0\n",
      "--------------------------------------\n"
     ]
    },
    {
     "data": {
      "image/png": "[encoded data removed]",
      "text/plain": [
       "<Figure size 216x144 with 1 Axes>"
      ]
     },
     "metadata": {
      "needs_background": "light"
     },
     "output_type": "display_data"
    },
    {
     "name": "stdout",
     "output_type": "stream",
     "text": [
      "Number of Nulls: 13\n",
      "--------------------------------------\n"
     ]
    },
    {
     "data": {
      "image/png": "[encoded data removed]",
      "text/plain": [
       "<Figure size 216x144 with 1 Axes>"
      ]
     },
     "metadata": {
      "needs_background": "light"
     },
     "output_type": "display_data"
    },
    {
     "name": "stdout",
     "output_type": "stream",
     "text": [
      "Number of Nulls: 0\n",
      "--------------------------------------\n"
     ]
    },
    {
     "data": {
      "image/png": "[encoded data removed]",
      "text/plain": [
       "<Figure size 216x144 with 1 Axes>"
      ]
     },
     "metadata": {
      "needs_background": "light"
     },
     "output_type": "display_data"
    },
    {
     "name": "stdout",
     "output_type": "stream",
     "text": [
      "Number of Nulls: 0\n",
      "--------------------------------------\n"
     ]
    },
    {
     "data": {
      "image/png": "[encoded data removed]",
      "text/plain": [
       "<Figure size 216x144 with 1 Axes>"
      ]
     },
     "metadata": {
      "needs_background": "light"
     },
     "output_type": "display_data"
    },
    {
     "name": "stdout",
     "output_type": "stream",
     "text": [
      "Number of Nulls: 0\n",
      "--------------------------------------\n"
     ]
    },
    {
     "data": {
      "image/png": "[encoded data removed]",
      "text/plain": [
       "<Figure size 216x144 with 1 Axes>"
      ]
     },
     "metadata": {
      "needs_background": "light"
     },
     "output_type": "display_data"
    },
    {
     "name": "stdout",
     "output_type": "stream",
     "text": [
      "Number of Nulls: 0\n",
      "--------------------------------------\n"
     ]
    },
    {
     "data": {
      "image/png": "[encoded data removed]",
      "text/plain": [
       "<Figure size 216x144 with 1 Axes>"
      ]
     },
     "metadata": {
      "needs_background": "light"
     },
     "output_type": "display_data"
    },
    {
     "name": "stdout",
     "output_type": "stream",
     "text": [
      "Number of Nulls: 0\n",
      "--------------------------------------\n"
     ]
    },
    {
     "data": {
      "image/png": "[encoded data removed]",
      "text/plain": [
       "<Figure size 216x144 with 1 Axes>"
      ]
     },
     "metadata": {
      "needs_background": "light"
     },
     "output_type": "display_data"
    },
    {
     "name": "stdout",
     "output_type": "stream",
     "text": [
      "Number of Nulls: 0\n",
      "--------------------------------------\n"
     ]
    },
    {
     "data": {
      "image/png": "[encoded data removed]",
      "text/plain": [
       "<Figure size 216x144 with 1 Axes>"
      ]
     },
     "metadata": {
      "needs_background": "light"
     },
     "output_type": "display_data"
    },
    {
     "name": "stdout",
     "output_type": "stream",
     "text": [
      "Number of Nulls: 0\n",
      "--------------------------------------\n"
     ]
    },
    {
     "data": {
      "image/png": "[encoded data removed]",
      "text/plain": [
       "<Figure size 216x144 with 1 Axes>"
      ]
     },
     "metadata": {
      "needs_background": "light"
     },
     "output_type": "display_data"
    },
    {
     "name": "stdout",
     "output_type": "stream",
     "text": [
      "Number of Nulls: 0\n",
      "--------------------------------------\n"
     ]
    },
    {
     "data": {
      "image/png": "[encoded data removed]",
      "text/plain": [
       "<Figure size 216x144 with 1 Axes>"
      ]
     },
     "metadata": {
      "needs_background": "light"
     },
     "output_type": "display_data"
    },
    {
     "name": "stdout",
     "output_type": "stream",
     "text": [
      "Number of Nulls: 0\n",
      "--------------------------------------\n"
     ]
    },
    {
     "data": {
      "image/png": "[encoded data removed]",
      "text/plain": [
       "<Figure size 216x144 with 1 Axes>"
      ]
     },
     "metadata": {
      "needs_background": "light"
     },
     "output_type": "display_data"
    },
    {
     "name": "stdout",
     "output_type": "stream",
     "text": [
      "Number of Nulls: 13\n",
      "--------------------------------------\n"
     ]
    },
    {
     "data": {
      "image/png": "[encoded data removed]",
      "text/plain": [
       "<Figure size 216x144 with 1 Axes>"
      ]
     },
     "metadata": {
      "needs_background": "light"
     },
     "output_type": "display_data"
    },
    {
     "name": "stdout",
     "output_type": "stream",
     "text": [
      "Number of Nulls: 0\n",
      "--------------------------------------\n"
     ]
    },
    {
     "data": {
      "image/png": "[encoded data removed]",
      "text/plain": [
       "<Figure size 216x144 with 1 Axes>"
      ]
     },
     "metadata": {
      "needs_background": "light"
     },
     "output_type": "display_data"
    },
    {
     "name": "stdout",
     "output_type": "stream",
     "text": [
      "Number of Nulls: 0\n",
      "--------------------------------------\n"
     ]
    },
    {
     "data": {
      "image/png": "[encoded data removed]",
      "text/plain": [
       "<Figure size 216x144 with 1 Axes>"
      ]
     },
     "metadata": {
      "needs_background": "light"
     },
     "output_type": "display_data"
    },
    {
     "name": "stdout",
     "output_type": "stream",
     "text": [
      "Number of Nulls: 0\n",
      "--------------------------------------\n"
     ]
    }
   ],
   "source": [
    "plot_variable_dist(df)"
   ]
  },
  {
   "cell_type": "code",
   "execution_count": 12,
   "metadata": {},
   "outputs": [],
   "source": [
    "# What about outliers...\n",
    "cols = ['bathroomcnt', 'bedroomcnt', 'calculatedbathnbr', 'calculatedfinishedsquarefeet', 'fullbathcnt', 'lotsizesquarefeet', 'roomcnt', 'structuretaxvaluedollarcnt', 'taxvaluedollarcnt', 'landtaxvaluedollarcnt', 'taxamount', 'taxrate', 'acres', 'bath_bed_ratio']\n",
    "\n",
    "df = prepare.drop_outliers(df, cols, k=3)"
   ]
  },
  {
   "cell_type": "code",
   "execution_count": 13,
   "metadata": {},
   "outputs": [
    {
     "name": "stdout",
     "output_type": "stream",
     "text": [
      "<class 'pandas.core.frame.DataFrame'>\n",
      "Int64Index: 43214 entries, 14297519 to 12826780\n",
      "Data columns (total 27 columns):\n",
      " #   Column                        Non-Null Count  Dtype  \n",
      "---  ------                        --------------  -----  \n",
      " 0   bathroomcnt                   43214 non-null  float64\n",
      " 1   bedroomcnt                    43214 non-null  float64\n",
      " 2   calculatedbathnbr             43214 non-null  float64\n",
      " 3   calculatedfinishedsquarefeet  43214 non-null  float64\n",
      " 4   fips                          43214 non-null  float64\n",
      " 5   fullbathcnt                   43214 non-null  float64\n",
      " 6   latitude                      43214 non-null  float64\n",
      " 7   longitude                     43214 non-null  float64\n",
      " 8   lotsizesquarefeet             43214 non-null  float64\n",
      " 9   rawcensustractandblock        43214 non-null  float64\n",
      " 10  regionidcity                  42447 non-null  float64\n",
      " 11  regionidzip                   43209 non-null  float64\n",
      " 12  roomcnt                       43214 non-null  float64\n",
      " 13  yearbuilt                     43201 non-null  float64\n",
      " 14  structuretaxvaluedollarcnt    43214 non-null  float64\n",
      " 15  taxvaluedollarcnt             43214 non-null  float64\n",
      " 16  assessmentyear                43214 non-null  float64\n",
      " 17  landtaxvaluedollarcnt         43214 non-null  float64\n",
      " 18  taxamount                     43214 non-null  float64\n",
      " 19  logerror                      43214 non-null  float64\n",
      " 20  LA                            43214 non-null  uint8  \n",
      " 21  Orange                        43214 non-null  uint8  \n",
      " 22  Ventura                       43214 non-null  uint8  \n",
      " 23  age                           43201 non-null  float64\n",
      " 24  taxrate                       43214 non-null  float64\n",
      " 25  acres                         43214 non-null  float64\n",
      " 26  bath_bed_ratio                43214 non-null  float64\n",
      "dtypes: float64(24), uint8(3)\n",
      "memory usage: 8.4 MB\n"
     ]
    }
   ],
   "source": [
    "df.info()"
   ]
  },
  {
   "cell_type": "code",
   "execution_count": null,
   "metadata": {},
   "outputs": [],
   "source": []
  },
  {
   "cell_type": "code",
   "execution_count": null,
   "metadata": {},
   "outputs": [],
   "source": []
  },
  {
   "cell_type": "code",
   "execution_count": null,
   "metadata": {},
   "outputs": [],
   "source": []
  },
  {
   "cell_type": "code",
   "execution_count": null,
   "metadata": {},
   "outputs": [],
   "source": [
    "# now let's split our clean data\n",
    "train, \\\n",
    "validate, \\\n",
    "test, \\\n",
    "X_train, \\\n",
    "y_train,\\\n",
    "X_validate, \\\n",
    "y_validate, \\\n",
    "X_test, \\\n",
    "y_test = prepare.train_validate_test(df, 'logerror')"
   ]
  },
  {
   "cell_type": "code",
   "execution_count": null,
   "metadata": {},
   "outputs": [],
   "source": [
    "train.info()"
   ]
  },
  {
   "cell_type": "markdown",
   "metadata": {},
   "source": [
    "#### Columns that need to be imputed:\n",
    "- Median\n",
    "    - calculatedbathnbr\n",
    "    - calculatedfinishedsquarefeet\n",
    "    - finishedsquarefeet12\n",
    "    - fullbathcnt\n",
    "    - yearbuilt\n",
    "    - structuretaxvaluedollarcnt\n",
    "    - taxvaluedollarcnt\n",
    "    - landtaxvaluedollarcnt\n",
    "    - taxamount\n",
    "    - age\n",
    "    - taxrate\n",
    "    - acres\n",
    "    - bath_bed_ratio\n",
    "- Most Frequent\n",
    "    - lotsizesquarefeet\n",
    "    - regionidcity\n",
    "    - regionidzip"
   ]
  },
  {
   "cell_type": "code",
   "execution_count": null,
   "metadata": {},
   "outputs": [],
   "source": [
    "# time to impute...\n",
    "\n",
    "train = prepare.impute_zillow(train, 'median', ['calculatedbathnbr', 'calculatedfinishedsquarefeet', 'finishedsquarefeet12', 'fullbathcnt', 'yearbuilt', 'structuretaxvaluedollarcnt', 'taxvaluedollarcnt', 'landtaxvaluedollarcnt', 'taxamount' ])"
   ]
  },
  {
   "cell_type": "code",
   "execution_count": null,
   "metadata": {},
   "outputs": [],
   "source": []
  },
  {
   "cell_type": "code",
   "execution_count": null,
   "metadata": {},
   "outputs": [],
   "source": []
  },
  {
   "cell_type": "code",
   "execution_count": null,
   "metadata": {},
   "outputs": [],
   "source": []
  }
 ],
 "metadata": {
  "kernelspec": {
   "display_name": "Python 3.8.5 64-bit ('base': conda)",
   "language": "python",
   "name": "python385jvsc74a57bd0b64057e63add2b45b1ffc7eab9b09c8889b419c878e2fdf0d08f837f0fc857a7"
  },
  "language_info": {
   "codemirror_mode": {
    "name": "ipython",
    "version": 3
   },
   "file_extension": ".py",
   "mimetype": "text/x-python",
   "name": "python",
   "nbconvert_exporter": "python",
   "pygments_lexer": "ipython3",
   "version": "3.8.5"
  }
 },
 "nbformat": 4,
 "nbformat_minor": 4
}
