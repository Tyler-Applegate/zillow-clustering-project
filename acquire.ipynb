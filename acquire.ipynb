{
 "cells": [
  {
   "cell_type": "markdown",
   "metadata": {},
   "source": [
    "# Zillow Clustering Project Data Acquisition Notebook"
   ]
  },
  {
   "cell_type": "code",
   "execution_count": 1,
   "metadata": {},
   "outputs": [],
   "source": [
    "# imports\n",
    "import pandas as pd\n",
    "import numpy as np\n",
    "import acquire\n",
    "import warnings\n",
    "warnings.filterwarnings('ignore')"
   ]
  },
  {
   "cell_type": "code",
   "execution_count": 2,
   "metadata": {},
   "outputs": [],
   "source": [
    "# connect to database, perform SQL query, write to csv, and convert to pandas DataFrame\n",
    "df = acquire.get_zillow_cluster()"
   ]
  },
  {
   "cell_type": "code",
   "execution_count": 4,
   "metadata": {},
   "outputs": [
    {
     "name": "stdout",
     "output_type": "stream",
     "text": [
      "<class 'pandas.core.frame.DataFrame'>\n",
      "RangeIndex: 52438 entries, 0 to 52437\n",
      "Data columns (total 68 columns):\n",
      " #   Column                        Non-Null Count  Dtype  \n",
      "---  ------                        --------------  -----  \n",
      " 0   typeconstructiontypeid        76 non-null     float64\n",
      " 1   storytypeid                   47 non-null     float64\n",
      " 2   propertylandusetypeid         52438 non-null  float64\n",
      " 3   heatingorsystemtypeid         33934 non-null  float64\n",
      " 4   buildingclasstypeid           0 non-null      object \n",
      " 5   architecturalstyletypeid      70 non-null     float64\n",
      " 6   airconditioningtypeid         13638 non-null  float64\n",
      " 7   parcelid                      52438 non-null  int64  \n",
      " 8   id                            52438 non-null  int64  \n",
      " 9   basementsqft                  47 non-null     float64\n",
      " 10  bathroomcnt                   52438 non-null  float64\n",
      " 11  bedroomcnt                    52438 non-null  float64\n",
      " 12  buildingqualitytypeid         33739 non-null  float64\n",
      " 13  calculatedbathnbr             52301 non-null  float64\n",
      " 14  decktypeid                    389 non-null    float64\n",
      " 15  finishedfloor1squarefeet      4379 non-null   float64\n",
      " 16  calculatedfinishedsquarefeet  52356 non-null  float64\n",
      " 17  finishedsquarefeet12          52191 non-null  float64\n",
      " 18  finishedsquarefeet13          0 non-null      object \n",
      " 19  finishedsquarefeet15          0 non-null      object \n",
      " 20  finishedsquarefeet50          4379 non-null   float64\n",
      " 21  finishedsquarefeet6           165 non-null    float64\n",
      " 22  fips                          52438 non-null  float64\n",
      " 23  fireplacecnt                  7241 non-null   float64\n",
      " 24  fullbathcnt                   52301 non-null  float64\n",
      " 25  garagecarcnt                  18013 non-null  float64\n",
      " 26  garagetotalsqft               18013 non-null  float64\n",
      " 27  hashottuborspa                1515 non-null   float64\n",
      " 28  latitude                      52438 non-null  float64\n",
      " 29  longitude                     52438 non-null  float64\n",
      " 30  lotsizesquarefeet             52069 non-null  float64\n",
      " 31  poolcnt                       11096 non-null  float64\n",
      " 32  poolsizesum                   867 non-null    float64\n",
      " 33  pooltypeid10                  444 non-null    float64\n",
      " 34  pooltypeid2                   1071 non-null   float64\n",
      " 35  pooltypeid7                   10009 non-null  float64\n",
      " 36  propertycountylandusecode     52438 non-null  object \n",
      " 37  propertyzoningdesc            33847 non-null  object \n",
      " 38  rawcensustractandblock        52438 non-null  float64\n",
      " 39  regionidcity                  51401 non-null  float64\n",
      " 40  regionidcounty                52438 non-null  float64\n",
      " 41  regionidneighborhood          19033 non-null  float64\n",
      " 42  regionidzip                   52412 non-null  float64\n",
      " 43  roomcnt                       52438 non-null  float64\n",
      " 44  threequarterbathnbr           6724 non-null   float64\n",
      " 45  unitcnt                       33846 non-null  float64\n",
      " 46  yardbuildingsqft17            1937 non-null   float64\n",
      " 47  yardbuildingsqft26            63 non-null     float64\n",
      " 48  yearbuilt                     52322 non-null  float64\n",
      " 49  numberofstories               14559 non-null  float64\n",
      " 50  fireplaceflag                 81 non-null     float64\n",
      " 51  structuretaxvaluedollarcnt    52354 non-null  float64\n",
      " 52  taxvaluedollarcnt             52437 non-null  float64\n",
      " 53  assessmentyear                52438 non-null  float64\n",
      " 54  landtaxvaluedollarcnt         52437 non-null  float64\n",
      " 55  taxamount                     52434 non-null  float64\n",
      " 56  taxdelinquencyflag            2079 non-null   object \n",
      " 57  taxdelinquencyyear            2079 non-null   float64\n",
      " 58  censustractandblock           52315 non-null  float64\n",
      " 59  logerror                      52438 non-null  float64\n",
      " 60  transactiondate               52438 non-null  object \n",
      " 61  airconditioningdesc           13638 non-null  object \n",
      " 62  architecturalstyledesc        70 non-null     object \n",
      " 63  buildingclassdesc             0 non-null      object \n",
      " 64  heatingorsystemdesc           33934 non-null  object \n",
      " 65  propertylandusedesc           52438 non-null  object \n",
      " 66  storydesc                     47 non-null     object \n",
      " 67  typeconstructiondesc          76 non-null     object \n",
      "dtypes: float64(52), int64(2), object(14)\n",
      "memory usage: 27.2+ MB\n"
     ]
    }
   ],
   "source": [
    "# what do we have to start with?\n",
    "df.info()"
   ]
  },
  {
   "cell_type": "markdown",
   "metadata": {},
   "source": [
    "### Data Aquistion Key Findings & Takeaways:\n",
    "- This dataframe has 52438 rows and 68 columns.\n",
    "- Target variable: 'logerror'\n",
    "- There are 14 columns that are dtype \"object\" that either need to be dropped, or converted to int\n",
    "- There are numerous columns with mostly missing values that either need to be dropped, or imputed\n",
    "- There are numerous columns that at first glance appear to be duplicates, or similar enough to either be dropped, or joined\n",
    "- Create Columns with county names\n",
    "- Create Variables:\n",
    "    - age\n",
    "    - acres\n",
    "    - bath:bed ratio\n",
    "    - taxrate"
   ]
  },
  {
   "cell_type": "markdown",
   "metadata": {},
   "source": [
    "#### Data Preparation To Do List:\n",
    "- Set parcelid as index\n",
    "- Encode or Drop Object Columns\n",
    "- Create New Variable Columns for:\n",
    "    - age of property\n",
    "    - convert lot size to acres\n",
    "    - bath:bed ratio\n",
    "    - taxrate\n",
    "- Drop Columns that have more than 50% null values\n",
    "- Drop Rows that have more than 75% null values\n",
    "- Other Columns to Drop:\n",
    "    - propertylandusetypeid\n",
    "    - id\n",
    "    - finishedsqft12\n",
    "    - assessmentyear"
   ]
  }
 ],
 "metadata": {
  "kernelspec": {
   "display_name": "Python 3.8.5 64-bit ('base': conda)",
   "language": "python",
   "name": "python385jvsc74a57bd0b64057e63add2b45b1ffc7eab9b09c8889b419c878e2fdf0d08f837f0fc857a7"
  },
  "language_info": {
   "codemirror_mode": {
    "name": "ipython",
    "version": 3
   },
   "file_extension": ".py",
   "mimetype": "text/x-python",
   "name": "python",
   "nbconvert_exporter": "python",
   "pygments_lexer": "ipython3",
   "version": "3.8.5"
  }
 },
 "nbformat": 4,
 "nbformat_minor": 4
}
